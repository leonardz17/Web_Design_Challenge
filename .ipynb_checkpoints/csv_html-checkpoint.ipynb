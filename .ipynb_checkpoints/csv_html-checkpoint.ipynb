{
 "cells": [
  {
   "cell_type": "code",
   "execution_count": 1,
   "metadata": {},
   "outputs": [],
   "source": [
    "import pandas as pd"
   ]
  },
  {
   "cell_type": "code",
   "execution_count": 2,
   "metadata": {},
   "outputs": [
    {
     "data": {
      "text/html": [
       "<div>\n",
       "<style scoped>\n",
       "    .dataframe tbody tr th:only-of-type {\n",
       "        vertical-align: middle;\n",
       "    }\n",
       "\n",
       "    .dataframe tbody tr th {\n",
       "        vertical-align: top;\n",
       "    }\n",
       "\n",
       "    .dataframe thead th {\n",
       "        text-align: right;\n",
       "    }\n",
       "</style>\n",
       "<table border=\"1\" class=\"dataframe\">\n",
       "  <thead>\n",
       "    <tr style=\"text-align: right;\">\n",
       "      <th></th>\n",
       "      <th>City</th>\n",
       "      <th>Lat</th>\n",
       "      <th>Lng</th>\n",
       "      <th>Max Temp</th>\n",
       "      <th>Humidity</th>\n",
       "      <th>Cloudiness</th>\n",
       "      <th>Wind Speed</th>\n",
       "      <th>Country</th>\n",
       "      <th>Date</th>\n",
       "    </tr>\n",
       "  </thead>\n",
       "  <tbody>\n",
       "    <tr>\n",
       "      <th>0</th>\n",
       "      <td>savinka</td>\n",
       "      <td>50.08</td>\n",
       "      <td>47.10</td>\n",
       "      <td>25.09</td>\n",
       "      <td>72</td>\n",
       "      <td>0</td>\n",
       "      <td>9.91</td>\n",
       "      <td>RU</td>\n",
       "      <td>1605855250</td>\n",
       "    </tr>\n",
       "    <tr>\n",
       "      <th>1</th>\n",
       "      <td>pangnirtung</td>\n",
       "      <td>66.15</td>\n",
       "      <td>-65.71</td>\n",
       "      <td>6.31</td>\n",
       "      <td>88</td>\n",
       "      <td>47</td>\n",
       "      <td>3.78</td>\n",
       "      <td>CA</td>\n",
       "      <td>1605855250</td>\n",
       "    </tr>\n",
       "    <tr>\n",
       "      <th>2</th>\n",
       "      <td>hithadhoo</td>\n",
       "      <td>-0.60</td>\n",
       "      <td>73.08</td>\n",
       "      <td>81.59</td>\n",
       "      <td>69</td>\n",
       "      <td>100</td>\n",
       "      <td>5.68</td>\n",
       "      <td>MV</td>\n",
       "      <td>1605855251</td>\n",
       "    </tr>\n",
       "    <tr>\n",
       "      <th>3</th>\n",
       "      <td>kasane</td>\n",
       "      <td>-17.82</td>\n",
       "      <td>25.15</td>\n",
       "      <td>69.80</td>\n",
       "      <td>100</td>\n",
       "      <td>75</td>\n",
       "      <td>6.93</td>\n",
       "      <td>BW</td>\n",
       "      <td>1605855251</td>\n",
       "    </tr>\n",
       "    <tr>\n",
       "      <th>4</th>\n",
       "      <td>leninsk-kuznetskiy</td>\n",
       "      <td>54.66</td>\n",
       "      <td>86.17</td>\n",
       "      <td>15.80</td>\n",
       "      <td>78</td>\n",
       "      <td>90</td>\n",
       "      <td>11.18</td>\n",
       "      <td>RU</td>\n",
       "      <td>1605855251</td>\n",
       "    </tr>\n",
       "  </tbody>\n",
       "</table>\n",
       "</div>"
      ],
      "text/plain": [
       "                 City    Lat    Lng  Max Temp  Humidity  Cloudiness  \\\n",
       "0             savinka  50.08  47.10     25.09        72           0   \n",
       "1         pangnirtung  66.15 -65.71      6.31        88          47   \n",
       "2           hithadhoo  -0.60  73.08     81.59        69         100   \n",
       "3              kasane -17.82  25.15     69.80       100          75   \n",
       "4  leninsk-kuznetskiy  54.66  86.17     15.80        78          90   \n",
       "\n",
       "   Wind Speed Country        Date  \n",
       "0        9.91      RU  1605855250  \n",
       "1        3.78      CA  1605855250  \n",
       "2        5.68      MV  1605855251  \n",
       "3        6.93      BW  1605855251  \n",
       "4       11.18      RU  1605855251  "
      ]
     },
     "execution_count": 2,
     "metadata": {},
     "output_type": "execute_result"
    }
   ],
   "source": [
    "csv_path = \"Resources/cities.csv\"\n",
    "cities_df = pd.read_csv(csv_path)\n",
    "cities_df.head()"
   ]
  },
  {
   "cell_type": "code",
   "execution_count": 3,
   "metadata": {},
   "outputs": [],
   "source": [
    "cities_df.to_html(\"cities_table.html\")"
   ]
  },
  {
   "cell_type": "code",
   "execution_count": null,
   "metadata": {},
   "outputs": [],
   "source": []
  }
 ],
 "metadata": {
  "kernelspec": {
   "display_name": "Python [conda env:PythonData] *",
   "language": "python",
   "name": "conda-env-PythonData-py"
  },
  "language_info": {
   "codemirror_mode": {
    "name": "ipython",
    "version": 3
   },
   "file_extension": ".py",
   "mimetype": "text/x-python",
   "name": "python",
   "nbconvert_exporter": "python",
   "pygments_lexer": "ipython3",
   "version": "3.6.12"
  }
 },
 "nbformat": 4,
 "nbformat_minor": 4
}
